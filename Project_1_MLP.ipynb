{
  "nbformat": 4,
  "nbformat_minor": 0,
  "metadata": {
    "colab": {
      "provenance": []
    },
    "kernelspec": {
      "name": "python3",
      "display_name": "Python 3"
    },
    "language_info": {
      "name": "python"
    },
    "accelerator": "GPU",
    "gpuClass": "standard"
  },
  "cells": [
    {
      "cell_type": "code",
      "execution_count": null,
      "metadata": {
        "id": "6QVcYwysDUfy"
      },
      "outputs": [],
      "source": [
        "import numpy as np\n",
        "import pandas as pd\n",
        "import pandas_datareader.data as web\n",
        "import matplotlib.pyplot as plt\n",
        "from keras.models import Sequential, Model\n",
        "from keras.layers import Dense, Input\n",
        "from tensorflow.keras.layers import concatenate"
      ]
    },
    {
      "cell_type": "code",
      "source": [
        "df = pd.read_csv('https://raw.githubusercontent.com/thieu1995/ai/master/data/preprocessing/international-airline-passengers.csv',parse_dates=True)"
      ],
      "metadata": {
        "id": "KAoUuVmwD0JN"
      },
      "execution_count": null,
      "outputs": []
    },
    {
      "cell_type": "code",
      "source": [
        "df.columns = ['date','Inter_Passengers']\n",
        "df['date'] = pd.to_datetime(df['date'], format='%Y/%m/%d')\n",
        "df = df.sort_index()\n",
        "df.head()"
      ],
      "metadata": {
        "colab": {
          "base_uri": "https://localhost:8080/",
          "height": 206
        },
        "id": "UZKppbpOEQq2",
        "outputId": "5915fe84-8a0b-4295-c08e-ad80700ad60e"
      },
      "execution_count": null,
      "outputs": [
        {
          "output_type": "execute_result",
          "data": {
            "text/plain": [
              "        date  Inter_Passengers\n",
              "0 1949-01-01               112\n",
              "1 1949-02-01               118\n",
              "2 1949-03-01               132\n",
              "3 1949-04-01               129\n",
              "4 1949-05-01               121"
            ],
            "text/html": [
              "\n",
              "  <div id=\"df-11705706-76a2-4b6a-a122-e42229a71fc2\">\n",
              "    <div class=\"colab-df-container\">\n",
              "      <div>\n",
              "<style scoped>\n",
              "    .dataframe tbody tr th:only-of-type {\n",
              "        vertical-align: middle;\n",
              "    }\n",
              "\n",
              "    .dataframe tbody tr th {\n",
              "        vertical-align: top;\n",
              "    }\n",
              "\n",
              "    .dataframe thead th {\n",
              "        text-align: right;\n",
              "    }\n",
              "</style>\n",
              "<table border=\"1\" class=\"dataframe\">\n",
              "  <thead>\n",
              "    <tr style=\"text-align: right;\">\n",
              "      <th></th>\n",
              "      <th>date</th>\n",
              "      <th>Inter_Passengers</th>\n",
              "    </tr>\n",
              "  </thead>\n",
              "  <tbody>\n",
              "    <tr>\n",
              "      <th>0</th>\n",
              "      <td>1949-01-01</td>\n",
              "      <td>112</td>\n",
              "    </tr>\n",
              "    <tr>\n",
              "      <th>1</th>\n",
              "      <td>1949-02-01</td>\n",
              "      <td>118</td>\n",
              "    </tr>\n",
              "    <tr>\n",
              "      <th>2</th>\n",
              "      <td>1949-03-01</td>\n",
              "      <td>132</td>\n",
              "    </tr>\n",
              "    <tr>\n",
              "      <th>3</th>\n",
              "      <td>1949-04-01</td>\n",
              "      <td>129</td>\n",
              "    </tr>\n",
              "    <tr>\n",
              "      <th>4</th>\n",
              "      <td>1949-05-01</td>\n",
              "      <td>121</td>\n",
              "    </tr>\n",
              "  </tbody>\n",
              "</table>\n",
              "</div>\n",
              "      <button class=\"colab-df-convert\" onclick=\"convertToInteractive('df-11705706-76a2-4b6a-a122-e42229a71fc2')\"\n",
              "              title=\"Convert this dataframe to an interactive table.\"\n",
              "              style=\"display:none;\">\n",
              "        \n",
              "  <svg xmlns=\"http://www.w3.org/2000/svg\" height=\"24px\"viewBox=\"0 0 24 24\"\n",
              "       width=\"24px\">\n",
              "    <path d=\"M0 0h24v24H0V0z\" fill=\"none\"/>\n",
              "    <path d=\"M18.56 5.44l.94 2.06.94-2.06 2.06-.94-2.06-.94-.94-2.06-.94 2.06-2.06.94zm-11 1L8.5 8.5l.94-2.06 2.06-.94-2.06-.94L8.5 2.5l-.94 2.06-2.06.94zm10 10l.94 2.06.94-2.06 2.06-.94-2.06-.94-.94-2.06-.94 2.06-2.06.94z\"/><path d=\"M17.41 7.96l-1.37-1.37c-.4-.4-.92-.59-1.43-.59-.52 0-1.04.2-1.43.59L10.3 9.45l-7.72 7.72c-.78.78-.78 2.05 0 2.83L4 21.41c.39.39.9.59 1.41.59.51 0 1.02-.2 1.41-.59l7.78-7.78 2.81-2.81c.8-.78.8-2.07 0-2.86zM5.41 20L4 18.59l7.72-7.72 1.47 1.35L5.41 20z\"/>\n",
              "  </svg>\n",
              "      </button>\n",
              "      \n",
              "  <style>\n",
              "    .colab-df-container {\n",
              "      display:flex;\n",
              "      flex-wrap:wrap;\n",
              "      gap: 12px;\n",
              "    }\n",
              "\n",
              "    .colab-df-convert {\n",
              "      background-color: #E8F0FE;\n",
              "      border: none;\n",
              "      border-radius: 50%;\n",
              "      cursor: pointer;\n",
              "      display: none;\n",
              "      fill: #1967D2;\n",
              "      height: 32px;\n",
              "      padding: 0 0 0 0;\n",
              "      width: 32px;\n",
              "    }\n",
              "\n",
              "    .colab-df-convert:hover {\n",
              "      background-color: #E2EBFA;\n",
              "      box-shadow: 0px 1px 2px rgba(60, 64, 67, 0.3), 0px 1px 3px 1px rgba(60, 64, 67, 0.15);\n",
              "      fill: #174EA6;\n",
              "    }\n",
              "\n",
              "    [theme=dark] .colab-df-convert {\n",
              "      background-color: #3B4455;\n",
              "      fill: #D2E3FC;\n",
              "    }\n",
              "\n",
              "    [theme=dark] .colab-df-convert:hover {\n",
              "      background-color: #434B5C;\n",
              "      box-shadow: 0px 1px 3px 1px rgba(0, 0, 0, 0.15);\n",
              "      filter: drop-shadow(0px 1px 2px rgba(0, 0, 0, 0.3));\n",
              "      fill: #FFFFFF;\n",
              "    }\n",
              "  </style>\n",
              "\n",
              "      <script>\n",
              "        const buttonEl =\n",
              "          document.querySelector('#df-11705706-76a2-4b6a-a122-e42229a71fc2 button.colab-df-convert');\n",
              "        buttonEl.style.display =\n",
              "          google.colab.kernel.accessAllowed ? 'block' : 'none';\n",
              "\n",
              "        async function convertToInteractive(key) {\n",
              "          const element = document.querySelector('#df-11705706-76a2-4b6a-a122-e42229a71fc2');\n",
              "          const dataTable =\n",
              "            await google.colab.kernel.invokeFunction('convertToInteractive',\n",
              "                                                     [key], {});\n",
              "          if (!dataTable) return;\n",
              "\n",
              "          const docLinkHtml = 'Like what you see? Visit the ' +\n",
              "            '<a target=\"_blank\" href=https://colab.research.google.com/notebooks/data_table.ipynb>data table notebook</a>'\n",
              "            + ' to learn more about interactive tables.';\n",
              "          element.innerHTML = '';\n",
              "          dataTable['output_type'] = 'display_data';\n",
              "          await google.colab.output.renderOutput(dataTable, element);\n",
              "          const docLink = document.createElement('div');\n",
              "          docLink.innerHTML = docLinkHtml;\n",
              "          element.appendChild(docLink);\n",
              "        }\n",
              "      </script>\n",
              "    </div>\n",
              "  </div>\n",
              "  "
            ]
          },
          "metadata": {},
          "execution_count": 3
        }
      ]
    },
    {
      "cell_type": "code",
      "source": [
        "df = df.set_index('date')\n",
        "df.head(5)"
      ],
      "metadata": {
        "colab": {
          "base_uri": "https://localhost:8080/",
          "height": 237
        },
        "id": "moIxov92ERIh",
        "outputId": "5d3a4bc4-cd31-4b6b-9399-8e78a879749e"
      },
      "execution_count": null,
      "outputs": [
        {
          "output_type": "execute_result",
          "data": {
            "text/plain": [
              "            Inter_Passengers\n",
              "date                        \n",
              "1949-01-01               112\n",
              "1949-02-01               118\n",
              "1949-03-01               132\n",
              "1949-04-01               129\n",
              "1949-05-01               121"
            ],
            "text/html": [
              "\n",
              "  <div id=\"df-37eaef0d-cb2c-4ae5-8efa-8cfccd4f0da5\">\n",
              "    <div class=\"colab-df-container\">\n",
              "      <div>\n",
              "<style scoped>\n",
              "    .dataframe tbody tr th:only-of-type {\n",
              "        vertical-align: middle;\n",
              "    }\n",
              "\n",
              "    .dataframe tbody tr th {\n",
              "        vertical-align: top;\n",
              "    }\n",
              "\n",
              "    .dataframe thead th {\n",
              "        text-align: right;\n",
              "    }\n",
              "</style>\n",
              "<table border=\"1\" class=\"dataframe\">\n",
              "  <thead>\n",
              "    <tr style=\"text-align: right;\">\n",
              "      <th></th>\n",
              "      <th>Inter_Passengers</th>\n",
              "    </tr>\n",
              "    <tr>\n",
              "      <th>date</th>\n",
              "      <th></th>\n",
              "    </tr>\n",
              "  </thead>\n",
              "  <tbody>\n",
              "    <tr>\n",
              "      <th>1949-01-01</th>\n",
              "      <td>112</td>\n",
              "    </tr>\n",
              "    <tr>\n",
              "      <th>1949-02-01</th>\n",
              "      <td>118</td>\n",
              "    </tr>\n",
              "    <tr>\n",
              "      <th>1949-03-01</th>\n",
              "      <td>132</td>\n",
              "    </tr>\n",
              "    <tr>\n",
              "      <th>1949-04-01</th>\n",
              "      <td>129</td>\n",
              "    </tr>\n",
              "    <tr>\n",
              "      <th>1949-05-01</th>\n",
              "      <td>121</td>\n",
              "    </tr>\n",
              "  </tbody>\n",
              "</table>\n",
              "</div>\n",
              "      <button class=\"colab-df-convert\" onclick=\"convertToInteractive('df-37eaef0d-cb2c-4ae5-8efa-8cfccd4f0da5')\"\n",
              "              title=\"Convert this dataframe to an interactive table.\"\n",
              "              style=\"display:none;\">\n",
              "        \n",
              "  <svg xmlns=\"http://www.w3.org/2000/svg\" height=\"24px\"viewBox=\"0 0 24 24\"\n",
              "       width=\"24px\">\n",
              "    <path d=\"M0 0h24v24H0V0z\" fill=\"none\"/>\n",
              "    <path d=\"M18.56 5.44l.94 2.06.94-2.06 2.06-.94-2.06-.94-.94-2.06-.94 2.06-2.06.94zm-11 1L8.5 8.5l.94-2.06 2.06-.94-2.06-.94L8.5 2.5l-.94 2.06-2.06.94zm10 10l.94 2.06.94-2.06 2.06-.94-2.06-.94-.94-2.06-.94 2.06-2.06.94z\"/><path d=\"M17.41 7.96l-1.37-1.37c-.4-.4-.92-.59-1.43-.59-.52 0-1.04.2-1.43.59L10.3 9.45l-7.72 7.72c-.78.78-.78 2.05 0 2.83L4 21.41c.39.39.9.59 1.41.59.51 0 1.02-.2 1.41-.59l7.78-7.78 2.81-2.81c.8-.78.8-2.07 0-2.86zM5.41 20L4 18.59l7.72-7.72 1.47 1.35L5.41 20z\"/>\n",
              "  </svg>\n",
              "      </button>\n",
              "      \n",
              "  <style>\n",
              "    .colab-df-container {\n",
              "      display:flex;\n",
              "      flex-wrap:wrap;\n",
              "      gap: 12px;\n",
              "    }\n",
              "\n",
              "    .colab-df-convert {\n",
              "      background-color: #E8F0FE;\n",
              "      border: none;\n",
              "      border-radius: 50%;\n",
              "      cursor: pointer;\n",
              "      display: none;\n",
              "      fill: #1967D2;\n",
              "      height: 32px;\n",
              "      padding: 0 0 0 0;\n",
              "      width: 32px;\n",
              "    }\n",
              "\n",
              "    .colab-df-convert:hover {\n",
              "      background-color: #E2EBFA;\n",
              "      box-shadow: 0px 1px 2px rgba(60, 64, 67, 0.3), 0px 1px 3px 1px rgba(60, 64, 67, 0.15);\n",
              "      fill: #174EA6;\n",
              "    }\n",
              "\n",
              "    [theme=dark] .colab-df-convert {\n",
              "      background-color: #3B4455;\n",
              "      fill: #D2E3FC;\n",
              "    }\n",
              "\n",
              "    [theme=dark] .colab-df-convert:hover {\n",
              "      background-color: #434B5C;\n",
              "      box-shadow: 0px 1px 3px 1px rgba(0, 0, 0, 0.15);\n",
              "      filter: drop-shadow(0px 1px 2px rgba(0, 0, 0, 0.3));\n",
              "      fill: #FFFFFF;\n",
              "    }\n",
              "  </style>\n",
              "\n",
              "      <script>\n",
              "        const buttonEl =\n",
              "          document.querySelector('#df-37eaef0d-cb2c-4ae5-8efa-8cfccd4f0da5 button.colab-df-convert');\n",
              "        buttonEl.style.display =\n",
              "          google.colab.kernel.accessAllowed ? 'block' : 'none';\n",
              "\n",
              "        async function convertToInteractive(key) {\n",
              "          const element = document.querySelector('#df-37eaef0d-cb2c-4ae5-8efa-8cfccd4f0da5');\n",
              "          const dataTable =\n",
              "            await google.colab.kernel.invokeFunction('convertToInteractive',\n",
              "                                                     [key], {});\n",
              "          if (!dataTable) return;\n",
              "\n",
              "          const docLinkHtml = 'Like what you see? Visit the ' +\n",
              "            '<a target=\"_blank\" href=https://colab.research.google.com/notebooks/data_table.ipynb>data table notebook</a>'\n",
              "            + ' to learn more about interactive tables.';\n",
              "          element.innerHTML = '';\n",
              "          dataTable['output_type'] = 'display_data';\n",
              "          await google.colab.output.renderOutput(dataTable, element);\n",
              "          const docLink = document.createElement('div');\n",
              "          docLink.innerHTML = docLinkHtml;\n",
              "          element.appendChild(docLink);\n",
              "        }\n",
              "      </script>\n",
              "    </div>\n",
              "  </div>\n",
              "  "
            ]
          },
          "metadata": {},
          "execution_count": 4
        }
      ]
    },
    {
      "cell_type": "code",
      "source": [
        "df.plot(figsize=(12,6))"
      ],
      "metadata": {
        "colab": {
          "base_uri": "https://localhost:8080/",
          "height": 406
        },
        "id": "eWyy6qIbEe63",
        "outputId": "7eed43d3-de72-4cd5-8dff-fb5b4322ef67"
      },
      "execution_count": null,
      "outputs": [
        {
          "output_type": "execute_result",
          "data": {
            "text/plain": [
              "<matplotlib.axes._subplots.AxesSubplot at 0x7f6e27a708b0>"
            ]
          },
          "metadata": {},
          "execution_count": 5
        },
        {
          "output_type": "display_data",
          "data": {
            "text/plain": [
              "<Figure size 864x432 with 1 Axes>"
            ],
            "image/png": "[encoded data removed]"
          },
          "metadata": {
            "needs_background": "light"
          }
        }
      ]
    },
    {
      "cell_type": "code",
      "source": [
        "def split_sequence(seq, n_step):\n",
        "    targets = []\n",
        "    features = []\n",
        "    for i in range(len(seq)):\n",
        "        eidx = i + n_step\n",
        "        if eidx > len(seq)-1:\n",
        "            break\n",
        "        target = seq[i:eidx]\n",
        "        feature = seq[eidx]\n",
        "        targets.append(target)\n",
        "        features.append(feature)\n",
        "    return np.array(targets), np.array(features)"
      ],
      "metadata": {
        "id": "udBPoMbIESzK"
      },
      "execution_count": null,
      "outputs": []
    },
    {
      "cell_type": "code",
      "source": [
        "n_steps=3"
      ],
      "metadata": {
        "id": "OAPEmDeSE8-A"
      },
      "execution_count": null,
      "outputs": []
    },
    {
      "cell_type": "code",
      "source": [
        "X, y = split_sequence(df['Inter_Passengers'], n_steps)\n",
        "print('X shape: %s'%str(X.shape))\n",
        "print('y shape: %s'%str(y.shape))"
      ],
      "metadata": {
        "colab": {
          "base_uri": "https://localhost:8080/"
        },
        "id": "hgvFOWnQE54c",
        "outputId": "cd62854e-a3f1-4e30-f968-21776b46a7a9"
      },
      "execution_count": null,
      "outputs": [
        {
          "output_type": "stream",
          "name": "stdout",
          "text": [
            "X shape: (141, 3)\n",
            "y shape: (141,)\n"
          ]
        }
      ]
    },
    {
      "cell_type": "code",
      "source": [
        "for i in range(5):\n",
        "  print('{} {:.2f}'.format(X[i, :], y[i]))"
      ],
      "metadata": {
        "colab": {
          "base_uri": "https://localhost:8080/"
        },
        "id": "1rfLJidDFm22",
        "outputId": "73574d40-5f9e-4cd9-b819-63b317e1026d"
      },
      "execution_count": null,
      "outputs": [
        {
          "output_type": "stream",
          "name": "stdout",
          "text": [
            "[112 118 132] 129.00\n",
            "[118 132 129] 121.00\n",
            "[132 129 121] 135.00\n",
            "[129 121 135] 148.00\n",
            "[121 135 148] 148.00\n"
          ]
        }
      ]
    },
    {
      "cell_type": "code",
      "source": [
        "model = Sequential()\n",
        "model.add(Dense(100, activation = 'relu', input_dim = n_steps))\n",
        "model.add(Dense(1))\n",
        "model.compile(optimizer = 'adam', loss = 'mse')"
      ],
      "metadata": {
        "id": "C-3QnTdhF3_S"
      },
      "execution_count": null,
      "outputs": []
    },
    {
      "cell_type": "code",
      "source": [
        "model.summary()"
      ],
      "metadata": {
        "colab": {
          "base_uri": "https://localhost:8080/"
        },
        "id": "ile1XXG0F-qW",
        "outputId": "d65ac0d8-ae07-4e3f-b237-93759750c5c9"
      },
      "execution_count": null,
      "outputs": [
        {
          "output_type": "stream",
          "name": "stdout",
          "text": [
            "Model: \"sequential\"\n",
            "_________________________________________________________________\n",
            " Layer (type)                Output Shape              Param #   \n",
            "=================================================================\n",
            " dense (Dense)               (None, 100)               400       \n",
            "                                                                 \n",
            " dense_1 (Dense)             (None, 1)                 101       \n",
            "                                                                 \n",
            "=================================================================\n",
            "Total params: 501\n",
            "Trainable params: 501\n",
            "Non-trainable params: 0\n",
            "_________________________________________________________________\n"
          ]
        }
      ]
    },
    {
      "cell_type": "code",
      "source": [
        "model.fit(X, y, epochs = 50)"
      ],
      "metadata": {
        "colab": {
          "base_uri": "https://localhost:8080/"
        },
        "id": "UtSITz7qGDpl",
        "outputId": "11eefc21-aadf-4458-dde9-836e39dde7d3"
      },
      "execution_count": null,
      "outputs": [
        {
          "output_type": "stream",
          "name": "stdout",
          "text": [
            "Epoch 1/50\n",
            "5/5 [==============================] - 0s 5ms/step - loss: 3322.9358\n",
            "Epoch 2/50\n",
            "5/5 [==============================] - 0s 7ms/step - loss: 3349.8906\n",
            "Epoch 3/50\n",
            "5/5 [==============================] - 0s 7ms/step - loss: 3396.2883\n",
            "Epoch 4/50\n",
            "5/5 [==============================] - 0s 9ms/step - loss: 3370.7354\n",
            "Epoch 5/50\n",
            "5/5 [==============================] - 0s 5ms/step - loss: 3313.0129\n",
            "Epoch 6/50\n",
            "5/5 [==============================] - 0s 4ms/step - loss: 3265.7739\n",
            "Epoch 7/50\n",
            "5/5 [==============================] - 0s 7ms/step - loss: 3208.5156\n",
            "Epoch 8/50\n",
            "5/5 [==============================] - 0s 6ms/step - loss: 3183.4231\n",
            "Epoch 9/50\n",
            "5/5 [==============================] - 0s 6ms/step - loss: 3165.7168\n",
            "Epoch 10/50\n",
            "5/5 [==============================] - 0s 6ms/step - loss: 3152.4395\n",
            "Epoch 11/50\n",
            "5/5 [==============================] - 0s 4ms/step - loss: 3139.7239\n",
            "Epoch 12/50\n",
            "5/5 [==============================] - 0s 5ms/step - loss: 3121.2727\n",
            "Epoch 13/50\n",
            "5/5 [==============================] - 0s 6ms/step - loss: 3107.6577\n",
            "Epoch 14/50\n",
            "5/5 [==============================] - 0s 6ms/step - loss: 3090.7544\n",
            "Epoch 15/50\n",
            "5/5 [==============================] - 0s 5ms/step - loss: 3075.1545\n",
            "Epoch 16/50\n",
            "5/5 [==============================] - 0s 3ms/step - loss: 3057.2180\n",
            "Epoch 17/50\n",
            "5/5 [==============================] - 0s 3ms/step - loss: 3041.7441\n",
            "Epoch 18/50\n",
            "5/5 [==============================] - 0s 3ms/step - loss: 3022.3752\n",
            "Epoch 19/50\n",
            "5/5 [==============================] - 0s 3ms/step - loss: 3008.8042\n",
            "Epoch 20/50\n",
            "5/5 [==============================] - 0s 3ms/step - loss: 2989.5830\n",
            "Epoch 21/50\n",
            "5/5 [==============================] - 0s 3ms/step - loss: 2970.5540\n",
            "Epoch 22/50\n",
            "5/5 [==============================] - 0s 3ms/step - loss: 2954.9521\n",
            "Epoch 23/50\n",
            "5/5 [==============================] - 0s 3ms/step - loss: 2956.9990\n",
            "Epoch 24/50\n",
            "5/5 [==============================] - 0s 3ms/step - loss: 2920.5886\n",
            "Epoch 25/50\n",
            "5/5 [==============================] - 0s 3ms/step - loss: 2892.9990\n",
            "Epoch 26/50\n",
            "5/5 [==============================] - 0s 3ms/step - loss: 2868.9358\n",
            "Epoch 27/50\n",
            "5/5 [==============================] - 0s 4ms/step - loss: 2848.4399\n",
            "Epoch 28/50\n",
            "5/5 [==============================] - 0s 3ms/step - loss: 2823.2896\n",
            "Epoch 29/50\n",
            "5/5 [==============================] - 0s 3ms/step - loss: 2807.8716\n",
            "Epoch 30/50\n",
            "5/5 [==============================] - 0s 3ms/step - loss: 2786.3872\n",
            "Epoch 31/50\n",
            "5/5 [==============================] - 0s 3ms/step - loss: 2767.3418\n",
            "Epoch 32/50\n",
            "5/5 [==============================] - 0s 3ms/step - loss: 2750.5725\n",
            "Epoch 33/50\n",
            "5/5 [==============================] - 0s 3ms/step - loss: 2728.3030\n",
            "Epoch 34/50\n",
            "5/5 [==============================] - 0s 3ms/step - loss: 2712.2227\n",
            "Epoch 35/50\n",
            "5/5 [==============================] - 0s 3ms/step - loss: 2692.7080\n",
            "Epoch 36/50\n",
            "5/5 [==============================] - 0s 4ms/step - loss: 2675.1438\n",
            "Epoch 37/50\n",
            "5/5 [==============================] - 0s 3ms/step - loss: 2655.1501\n",
            "Epoch 38/50\n",
            "5/5 [==============================] - 0s 3ms/step - loss: 2641.8809\n",
            "Epoch 39/50\n",
            "5/5 [==============================] - 0s 3ms/step - loss: 2631.3025\n",
            "Epoch 40/50\n",
            "5/5 [==============================] - 0s 3ms/step - loss: 2607.6748\n",
            "Epoch 41/50\n",
            "5/5 [==============================] - 0s 3ms/step - loss: 2589.8445\n",
            "Epoch 42/50\n",
            "5/5 [==============================] - 0s 4ms/step - loss: 2575.6843\n",
            "Epoch 43/50\n",
            "5/5 [==============================] - 0s 5ms/step - loss: 2554.7590\n",
            "Epoch 44/50\n",
            "5/5 [==============================] - 0s 3ms/step - loss: 2536.7820\n",
            "Epoch 45/50\n",
            "5/5 [==============================] - 0s 3ms/step - loss: 2521.4565\n",
            "Epoch 46/50\n",
            "5/5 [==============================] - 0s 3ms/step - loss: 2508.1382\n",
            "Epoch 47/50\n",
            "5/5 [==============================] - 0s 3ms/step - loss: 2493.0234\n",
            "Epoch 48/50\n",
            "5/5 [==============================] - 0s 3ms/step - loss: 2473.9487\n",
            "Epoch 49/50\n",
            "5/5 [==============================] - 0s 3ms/step - loss: 2460.8225\n",
            "Epoch 50/50\n",
            "5/5 [==============================] - 0s 3ms/step - loss: 2446.7422\n"
          ]
        },
        {
          "output_type": "execute_result",
          "data": {
            "text/plain": [
              "<keras.callbacks.History at 0x7f6dc2520220>"
            ]
          },
          "metadata": {},
          "execution_count": 12
        }
      ]
    },
    {
      "cell_type": "code",
      "source": [
        "X_input = np.array(X[-5:]).reshape(-1, n_steps)\n",
        "print(X_input)"
      ],
      "metadata": {
        "colab": {
          "base_uri": "https://localhost:8080/"
        },
        "id": "2n17Lp8bGGWe",
        "outputId": "2fdddd48-a2e9-44a6-84dd-1304a8bf9989"
      },
      "execution_count": null,
      "outputs": [
        {
          "output_type": "stream",
          "name": "stdout",
          "text": [
            "[[472 535 622]\n",
            " [535 622 606]\n",
            " [622 606 508]\n",
            " [606 508 461]\n",
            " [508 461 390]]\n"
          ]
        }
      ]
    },
    {
      "cell_type": "code",
      "source": [
        "print('Actual value: %s'%str(y[-5:]))\n",
        "print('Predict value:')\n",
        "yhat = model.predict(X_input)\n",
        "print(yhat)"
      ],
      "metadata": {
        "colab": {
          "base_uri": "https://localhost:8080/"
        },
        "id": "qEmXIE9gGO4T",
        "outputId": "787de90b-b38c-49ba-de50-bede20b19316"
      },
      "execution_count": null,
      "outputs": [
        {
          "output_type": "stream",
          "name": "stdout",
          "text": [
            "Actual value: [606 508 461 390 432]\n",
            "Predict value:\n",
            "1/1 [==============================] - 0s 59ms/step\n",
            "[[539.8327]\n",
            " [585.1644]\n",
            " [583.6499]\n",
            " [534.6738]\n",
            " [459.1827]]\n"
          ]
        }
      ]
    },
    {
      "cell_type": "code",
      "source": [
        "#Hàm RMSE\n",
        "def RMSE(yhat, y):\n",
        "    return np.sqrt(np.mean((yhat - y)**2))\n",
        "\n",
        "yhat = model.predict(X)\n",
        "RMSE(yhat, y)"
      ],
      "metadata": {
        "colab": {
          "base_uri": "https://localhost:8080/"
        },
        "id": "gSGlueCMGSAs",
        "outputId": "717bdca6-66fd-4632-9a8d-dad2aa822bd3"
      },
      "execution_count": null,
      "outputs": [
        {
          "output_type": "stream",
          "name": "stdout",
          "text": [
            "5/5 [==============================] - 0s 2ms/step\n"
          ]
        },
        {
          "output_type": "execute_result",
          "data": {
            "text/plain": [
              "166.2966949096413"
            ]
          },
          "metadata": {},
          "execution_count": 15
        }
      ]
    },
    {
      "cell_type": "code",
      "source": [
        "def plt_graph(y, yhat):\n",
        "    plt.figure(figsize = (16, 8))\n",
        "    plt.plot(y, label = 'Actual')\n",
        "    plt.plot(yhat, label = 'Predict')\n",
        "    plt.xlabel('No transaction')\n",
        "    plt.ylabel('Price')\n",
        "    legend = plt.legend(loc = 'upper center', shadow = True, fontsize = 'x-large')\n",
        "    legend.get_frame().set_facecolor('C')\n",
        "    \n",
        "plt_graph(y, yhat)"
      ],
      "metadata": {
        "colab": {
          "base_uri": "https://localhost:8080/",
          "height": 444
        },
        "id": "XF5XMyFTGY7S",
        "outputId": "ca85a130-dd28-4c94-ac7a-046a58f5393c"
      },
      "execution_count": null,
      "outputs": [
        {
          "output_type": "stream",
          "name": "stderr",
          "text": [
            "<ipython-input-16-d4cb0366c2aa>:8: MatplotlibDeprecationWarning: Support for uppercase single-letter colors is deprecated since Matplotlib 3.1 and will be removed in 3.3; please use lowercase instead.\n",
            "  legend.get_frame().set_facecolor('C')\n"
          ]
        },
        {
          "output_type": "display_data",
          "data": {
            "text/plain": [
              "<Figure size 1152x576 with 1 Axes>"
            ],
            "image/png": "[encoded data removed]"
          },
          "metadata": {
            "needs_background": "light"
          }
        }
      ]
    },
    {
      "cell_type": "code",
      "source": [
        "plt.xlabel?"
      ],
      "metadata": {
        "id": "cYEn57wVGtic"
      },
      "execution_count": null,
      "outputs": []
    },
    {
      "cell_type": "code",
      "source": [],
      "metadata": {
        "id": "zSqLrbg2GeQw"
      },
      "execution_count": null,
      "outputs": []
    }
  ]
}